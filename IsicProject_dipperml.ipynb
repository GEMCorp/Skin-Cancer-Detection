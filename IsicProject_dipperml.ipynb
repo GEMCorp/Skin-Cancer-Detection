{
 "cells": [
  {
   "cell_type": "code",
   "execution_count": 1,
   "metadata": {
    "id": "EUehfFMPPcRr"
   },
   "outputs": [],
   "source": [
    "# from google.colab import drive"
   ]
  },
  {
   "cell_type": "code",
   "execution_count": null,
   "metadata": {},
   "outputs": [],
   "source": [
    "!list"
   ]
  },
  {
   "cell_type": "code",
   "execution_count": 2,
   "metadata": {
    "colab": {
     "base_uri": "https://localhost:8080/"
    },
    "id": "M3vwVP7mttWr",
    "outputId": "fcfbfdd6-2366-47d1-9636-ad8de4cbf182"
   },
   "outputs": [],
   "source": [
    "# drive.mount(\"/content/drive\")"
   ]
  },
  {
   "cell_type": "code",
   "execution_count": 3,
   "metadata": {
    "scrolled": true
   },
   "outputs": [
    {
     "name": "stdout",
     "output_type": "stream",
     "text": [
      "\u001b[1;31mE: \u001b[0mCould not open lock file /var/lib/dpkg/lock-frontend - open (13: Permission denied)\u001b[0m\r\n",
      "\u001b[1;31mE: \u001b[0mUnable to acquire the dpkg frontend lock (/var/lib/dpkg/lock-frontend), are you root?\u001b[0m\r\n"
     ]
    }
   ],
   "source": [
    "# !apt install unzip"
   ]
  },
  {
   "cell_type": "code",
   "execution_count": 2,
   "metadata": {},
   "outputs": [
    {
     "name": "stdout",
     "output_type": "stream",
     "text": [
      "/home/gemcorp/ISIC\r\n"
     ]
    }
   ],
   "source": [
    "!pwd"
   ]
  },
  {
   "cell_type": "code",
   "execution_count": null,
   "metadata": {},
   "outputs": [],
   "source": [
    "!unzip ./ISIC_2019_Training_Input.zip"
   ]
  },
  {
   "cell_type": "code",
   "execution_count": null,
   "metadata": {
    "id": "oUHfv5z0viZ6"
   },
   "outputs": [],
   "source": [
    "import os\n",
    "import random\n",
    "\n",
    "\n",
    "seed = 1\n",
    "random.seed(seed)\n",
    "dataset_directory = \"/home/gemcorp/ISIC/ISIC_2019_Training_Input/\"\n",
    "train = \"/home/gemcorp/ISIC/train/\"\n",
    "test = \"/home/gemcorp/ISIC/test/\"\n",
    "validation = \"/home/gemcorp/ISIC/validation/\"\n",
    "\n",
    "#os.makedirs(dataset_directory)\n",
    "#os.makedirs(train_directory)\n",
    "#os.makedirs(validation_directory)"
   ]
  },
  {
   "cell_type": "code",
   "execution_count": null,
   "metadata": {
    "id": "Wa-y80XohDqz"
   },
   "outputs": [],
   "source": [
    "\n",
    "os.makedirs(train + \"MEL/\")\n",
    "os.makedirs(train + \"NV/\")\n",
    "os.makedirs(train + \"BCC/\")\n",
    "os.makedirs(train + \"AK/\")\n",
    "os.makedirs(train + \"BKL/\")\n",
    "os.makedirs(train + \"DF/\")\n",
    "os.makedirs(train + \"VASC/\")\n",
    "os.makedirs(train + \"SCC/\")\n",
    "\n",
    "os.makedirs(test + \"MEL/\")\n",
    "os.makedirs(test + \"NV/\")\n",
    "os.makedirs(test + \"BCC/\")\n",
    "os.makedirs(test + \"AK/\")\n",
    "os.makedirs(test + \"BKL/\")\n",
    "os.makedirs(test + \"DF/\")\n",
    "os.makedirs(test + \"VASC/\")\n",
    "os.makedirs(test + \"SCC/\")\n",
    "\n",
    "os.makedirs(validation + \"MEL/\")\n",
    "os.makedirs(validation + \"NV/\")\n",
    "os.makedirs(validation + \"BCC/\")\n",
    "os.makedirs(validation + \"AK/\")\n",
    "os.makedirs(validation + \"BKL/\")\n",
    "os.makedirs(validation + \"DF/\")\n",
    "os.makedirs(validation + \"VASC/\")\n",
    "os.makedirs(validation + \"SCC/\")"
   ]
  },
  {
   "cell_type": "code",
   "execution_count": null,
   "metadata": {
    "id": "zeAxL5NMy50E"
   },
   "outputs": [],
   "source": [
    "import shutil\n",
    "test_examples = train_examples = validation_examples = 0\n",
    "\n",
    "for line in open(\"/home/gemcorp/ISIC_2019_Training_GroundTruth.csv\").readlines()[1:]:\n",
    "    split_line = line.split(\",\")\n",
    "    img_file = split_line[0]\n",
    "    skin_classes = split_line[1:9]\n",
    "\n",
    "    random_number = random.random()\n",
    "\n",
    "    if random_number < 0.8:\n",
    "        location = train\n",
    "\n",
    "        if int(float(skin_classes[0])) == 1:\n",
    "          shutil.copy(\n",
    "              dataset_directory + img_file + \".jpg\",\n",
    "              location + \"MEL/\" + img_file + \".jpg\",\n",
    "          )\n",
    "        elif int(float(skin_classes[1])) == 1:\n",
    "            shutil.copy(\n",
    "                dataset_directory + img_file + \".jpg\",\n",
    "                location + \"NV/\" + img_file + \".jpg\",\n",
    "            )\n",
    "        elif int(float(skin_classes[2])) == 1:\n",
    "            shutil.copy(\n",
    "                dataset_directory + img_file + \".jpg\",\n",
    "                location + \"BCC/\" + img_file + \".jpg\",\n",
    "            )\n",
    "        elif int(float(skin_classes[3])) == 1:\n",
    "            shutil.copy(\n",
    "                dataset_directory + img_file + \".jpg\",\n",
    "                location + \"AK/\" + img_file + \".jpg\",\n",
    "            )\n",
    "        elif int(float(skin_classes[4])) == 1:\n",
    "            shutil.copy(\n",
    "                dataset_directory + img_file + \".jpg\",\n",
    "                location + \"BKL/\" + img_file + \".jpg\",\n",
    "            )\n",
    "        elif int(float(skin_classes[5])) == 1:\n",
    "            shutil.copy(\n",
    "                dataset_directory + img_file + \".jpg\",\n",
    "                location + \"DF/\" + img_file + \".jpg\",\n",
    "            )\n",
    "        elif int(float(skin_classes[6])) == 1:\n",
    "            shutil.copy(\n",
    "                dataset_directory + img_file + \".jpg\",\n",
    "                location + \"VASC/\" + img_file + \".jpg\",\n",
    "            )\n",
    "        elif int(float(skin_classes[7])) == 1:\n",
    "            shutil.copy(\n",
    "                dataset_directory + img_file + \".jpg\",\n",
    "                location + \"SCC/\" + img_file + \".jpg\",\n",
    "            )\n",
    "\n",
    "        train_examples += 1\n",
    "\n",
    "    elif random_number < 0.9:\n",
    "        location = test\n",
    "\n",
    "        if int(float(skin_classes[0])) == 1:\n",
    "          shutil.copy(\n",
    "              dataset_directory + img_file + \".jpg\",\n",
    "              location + \"MEL/\" + img_file + \".jpg\",\n",
    "          )\n",
    "        elif int(float(skin_classes[1])) == 1:\n",
    "            shutil.copy(\n",
    "                dataset_directory + img_file + \".jpg\",\n",
    "                location + \"NV/\" + img_file + \".jpg\",\n",
    "            )\n",
    "        elif int(float(skin_classes[2])) == 1:\n",
    "            shutil.copy(\n",
    "                dataset_directory + img_file + \".jpg\",\n",
    "                location + \"BCC/\" + img_file + \".jpg\",\n",
    "            )\n",
    "        elif int(float(skin_classes[3])) == 1:\n",
    "            shutil.copy(\n",
    "                dataset_directory + img_file + \".jpg\",\n",
    "                location + \"AK/\" + img_file + \".jpg\",\n",
    "            )\n",
    "        elif int(float(skin_classes[4])) == 1:\n",
    "            shutil.copy(\n",
    "                dataset_directory + img_file + \".jpg\",\n",
    "                location + \"BKL/\" + img_file + \".jpg\",\n",
    "            )\n",
    "        elif int(float(skin_classes[5])) == 1:\n",
    "            shutil.copy(\n",
    "                dataset_directory + img_file + \".jpg\",\n",
    "                location + \"DF/\" + img_file + \".jpg\",\n",
    "            )\n",
    "        elif int(float(skin_classes[6])) == 1:\n",
    "            shutil.copy(\n",
    "                dataset_directory + img_file + \".jpg\",\n",
    "                location + \"VASC/\" + img_file + \".jpg\",\n",
    "            )\n",
    "        elif int(float(skin_classes[7])) == 1:\n",
    "            shutil.copy(\n",
    "                dataset_directory + img_file + \".jpg\",\n",
    "                location + \"SCC/\" + img_file + \".jpg\",\n",
    "            )\n",
    "\n",
    "        test_examples += 1\n",
    "\n",
    "    else:\n",
    "        location = validation\n",
    "\n",
    "        if int(float(skin_classes[0])) == 1:\n",
    "          shutil.copy(\n",
    "              dataset_directory + img_file + \".jpg\",\n",
    "              location + \"MEL/\" + img_file + \".jpg\",\n",
    "          )\n",
    "        elif int(float(skin_classes[1])) == 1:\n",
    "            shutil.copy(\n",
    "                dataset_directory + img_file + \".jpg\",\n",
    "                location + \"NV/\" + img_file + \".jpg\",\n",
    "            )\n",
    "        elif int(float(skin_classes[2])) == 1:\n",
    "            shutil.copy(\n",
    "                dataset_directory + img_file + \".jpg\",\n",
    "                location + \"BCC/\" + img_file + \".jpg\",\n",
    "            )\n",
    "        elif int(float(skin_classes[3])) == 1:\n",
    "            shutil.copy(\n",
    "                dataset_directory + img_file + \".jpg\",\n",
    "                location + \"AK/\" + img_file + \".jpg\",\n",
    "            )\n",
    "        elif int(float(skin_classes[4])) == 1:\n",
    "            shutil.copy(\n",
    "                dataset_directory + img_file + \".jpg\",\n",
    "                location + \"BKL/\" + img_file + \".jpg\",\n",
    "            )\n",
    "        elif int(float(skin_classes[5])) == 1:\n",
    "            shutil.copy(\n",
    "                dataset_directory + img_file + \".jpg\",\n",
    "                location + \"DF/\" + img_file + \".jpg\",\n",
    "            )\n",
    "        elif int(float(skin_classes[6])) == 1:\n",
    "            shutil.copy(\n",
    "                dataset_directory + img_file + \".jpg\",\n",
    "                location + \"VASC/\" + img_file + \".jpg\",\n",
    "            )\n",
    "        elif int(float(skin_classes[7])) == 1:\n",
    "            shutil.copy(\n",
    "                dataset_directory + img_file + \".jpg\",\n",
    "                location + \"SCC/\" + img_file + \".jpg\",\n",
    "            )\n",
    "\n",
    "        validation_examples += 1\n",
    "\n",
    "\n",
    "print(f\"Number of Training Examples {train_examples}\")\n",
    "print(f\"Number of Test Examples {test_examples}\")\n",
    "print(f\"Number of Validation Examples {validation_examples}\")"
   ]
  },
  {
   "cell_type": "code",
   "execution_count": null,
   "metadata": {
    "colab": {
     "base_uri": "https://localhost:8080/"
    },
    "id": "wcg5qqFH0LXG",
    "outputId": "01b72926-c3f4-4c04-8c0d-b056742c6a46"
   },
   "outputs": [
    {
     "name": "stdout",
     "output_type": "stream",
     "text": [
      "Found GPU at: /device:GPU:0\n"
     ]
    }
   ],
   "source": [
    "import tensorflow as tf\n",
    "device_name = tf.test.gpu_device_name()\n",
    "if device_name != '/device:GPU:0':\n",
    "  raise SystemError('GPU device not found')\n",
    "print('Found GPU at: {}'.format(device_name))"
   ]
  },
  {
   "cell_type": "code",
   "execution_count": null,
   "metadata": {
    "id": "QHxfpqszklwL"
   },
   "outputs": [],
   "source": [
    "train_examples = 20224\n",
    "test_examples = 2552\n",
    "validation_examples = 2555\n",
    "#img_height = img_width = 224\n",
    "batch_size = 32"
   ]
  },
  {
   "cell_type": "code",
   "execution_count": null,
   "metadata": {
    "colab": {
     "base_uri": "https://localhost:8080/"
    },
    "id": "2eB1jLUnt4Aj",
    "outputId": "3f8086aa-bc3f-4390-b372-5272c9653d8c"
   },
   "outputs": [
    {
     "name": "stdout",
     "output_type": "stream",
     "text": [
      "Found 13895 files belonging to 8 classes.\n",
      "Found 1752 files belonging to 8 classes.\n",
      "Found 1776 files belonging to 8 classes.\n",
      "Model: \"model_2\"\n",
      "_________________________________________________________________\n",
      " Layer (type)                Output Shape              Param #   \n",
      "=================================================================\n",
      " input_3 (InputLayer)        [(None, 224, 224, 3)]     0         \n",
      "                                                                 \n",
      " block1_conv1 (Conv2D)       (None, 224, 224, 64)      1792      \n",
      "                                                                 \n",
      " block1_conv2 (Conv2D)       (None, 224, 224, 64)      36928     \n",
      "                                                                 \n",
      " block1_pool (MaxPooling2D)  (None, 112, 112, 64)      0         \n",
      "                                                                 \n",
      " block2_conv1 (Conv2D)       (None, 112, 112, 128)     73856     \n",
      "                                                                 \n",
      " block2_conv2 (Conv2D)       (None, 112, 112, 128)     147584    \n",
      "                                                                 \n",
      " block2_pool (MaxPooling2D)  (None, 56, 56, 128)       0         \n",
      "                                                                 \n",
      " block3_conv1 (Conv2D)       (None, 56, 56, 256)       295168    \n",
      "                                                                 \n",
      " block3_conv2 (Conv2D)       (None, 56, 56, 256)       590080    \n",
      "                                                                 \n",
      " block3_conv3 (Conv2D)       (None, 56, 56, 256)       590080    \n",
      "                                                                 \n",
      " block3_pool (MaxPooling2D)  (None, 28, 28, 256)       0         \n",
      "                                                                 \n",
      " block4_conv1 (Conv2D)       (None, 28, 28, 512)       1180160   \n",
      "                                                                 \n",
      " block4_conv2 (Conv2D)       (None, 28, 28, 512)       2359808   \n",
      "                                                                 \n",
      " block4_conv3 (Conv2D)       (None, 28, 28, 512)       2359808   \n",
      "                                                                 \n",
      " block4_pool (MaxPooling2D)  (None, 14, 14, 512)       0         \n",
      "                                                                 \n",
      " block5_conv1 (Conv2D)       (None, 14, 14, 512)       2359808   \n",
      "                                                                 \n",
      " block5_conv2 (Conv2D)       (None, 14, 14, 512)       2359808   \n",
      "                                                                 \n",
      " block5_conv3 (Conv2D)       (None, 14, 14, 512)       2359808   \n",
      "                                                                 \n",
      " block5_pool (MaxPooling2D)  (None, 7, 7, 512)         0         \n",
      "                                                                 \n",
      " flatten_2 (Flatten)         (None, 25088)             0         \n",
      "                                                                 \n",
      " dense_2 (Dense)             (None, 8)                 200712    \n",
      "                                                                 \n",
      "=================================================================\n",
      "Total params: 14,915,400\n",
      "Trainable params: 200,712\n",
      "Non-trainable params: 14,714,688\n",
      "_________________________________________________________________\n"
     ]
    }
   ],
   "source": [
    "from keras.layers import Input, Lambda, Dense, Flatten\n",
    "from keras.models import Model\n",
    "from keras.applications.vgg16 import VGG16\n",
    "from keras.applications.vgg16 import preprocess_input\n",
    "from keras.preprocessing import image\n",
    "#from keras.preprocessing.image import ImageDataGenerator\n",
    "#from keras.models import Sequential\n",
    "from keras import metrics\n",
    "#from glob import glob\n",
    "import matplotlib.pyplot as plt\n",
    "import tensorflow as tf\n",
    "#import tensorflow_addons as tfa\n",
    "\n",
    "# re-size all the images to this\n",
    "BATCH_SIZE = 32\n",
    "IMG_SIZE = (224, 224)\n",
    "\n",
    "train_dataset = tf.keras.utils.image_dataset_from_directory(train,\n",
    "                                                            labels='inferred',\n",
    "                                                            label_mode='categorical',\n",
    "                                                            shuffle=False,\n",
    "                                                            batch_size=BATCH_SIZE,\n",
    "                                                            image_size=IMG_SIZE)\n",
    "\n",
    "test_dataset = tf.keras.utils.image_dataset_from_directory(test,\n",
    "                                                            labels='inferred',\n",
    "                                                            label_mode='categorical',\n",
    "                                                            shuffle=False,\n",
    "                                                            batch_size=BATCH_SIZE,\n",
    "                                                            image_size=IMG_SIZE)\n",
    "\n",
    "validation_dataset = tf.keras.utils.image_dataset_from_directory(validation,\n",
    "                                                                 labels='inferred',\n",
    "                                                                 label_mode='categorical',\n",
    "                                                                 shuffle=False,\n",
    "                                                                 batch_size=BATCH_SIZE,\n",
    "                                                                 image_size=IMG_SIZE)\n",
    "AUTOTUNE = tf.data.AUTOTUNE\n",
    "train_dataset = train_dataset.cache().prefetch(buffer_size=AUTOTUNE)\n",
    "test_dataset = test_dataset.cache().prefetch(buffer_size=AUTOTUNE)\n",
    "validation_dataset = validation_dataset.cache().prefetch(buffer_size=AUTOTUNE)\n",
    "\n",
    "# add preprocessing layer to the front of VGG\n",
    "vgg = VGG16(input_shape=IMG_SIZE + (3,),\n",
    "            weights='imagenet',\n",
    "            include_top=False)\n",
    "\n",
    "# don't train existing weights\n",
    "for layer in vgg.layers:\n",
    "  layer.trainable = False\n",
    "\n",
    "\n",
    "# fine tuning vgg\n",
    "x = Flatten()(vgg.output)\n",
    "prediction = Dense(8, activation='softmax')(x) #chage to 8 later\n",
    "\n",
    "# create a model object\n",
    "model = Model(inputs=vgg.input, outputs=prediction)\n",
    "\n",
    "# view the structure of the model\n",
    "model.summary()\n",
    "METRICS = [\n",
    "           metrics.BinaryAccuracy(name = \"accuracy\"),\n",
    "           metrics.Precision(name = \"precision\"),\n",
    "           metrics.Recall(name = \"recall\"),\n",
    "           #tfa.metrics.F1Score(num_classes=8, name = \"f1\")\n",
    "]\n",
    "\n",
    "\n",
    "\n",
    "\n",
    "# tell the model what cost and optimization method to use\n",
    "model.compile(\n",
    "  loss ='categorical_crossentropy',\n",
    "  optimizer='adam',\n",
    "  metrics = METRICS\n",
    ")\n",
    "\n"
   ]
  },
  {
   "cell_type": "code",
   "execution_count": null,
   "metadata": {
    "colab": {
     "background_save": true,
     "base_uri": "https://localhost:8080/"
    },
    "id": "7h1A5kGlrmfl",
    "outputId": "3665aef0-4078-4b8d-cbf0-83d9b2a16675"
   },
   "outputs": [
    {
     "name": "stdout",
     "output_type": "stream",
     "text": [
      "Epoch 1/10\n",
      "335/435 [======================>.......] - ETA: 26:48 - loss: 32.4498 - accuracy: 0.9719 - precision: 0.8876 - recall: 0.8871"
     ]
    }
   ],
   "source": [
    "initial_epochs = 10\n",
    "\n",
    "#loss0, accuracy0 = model.evaluate(validation_dataset)\n",
    "history = model.fit(train_dataset,\n",
    "                    epochs=initial_epochs,\n",
    "                    validation_data=validation_dataset)\n",
    "\n",
    "model.evaluate(validation_dataset)\n",
    "model.evaluate(test_dataset)\n",
    "\n",
    "acc = history.history['accuracy']\n",
    "val_acc = history.history['val_accuracy']\n",
    "\n",
    "loss = history.history['loss']\n",
    "val_loss = history.history['val_loss']\n",
    "\n",
    "plt.figure(figsize=(8, 8))\n",
    "plt.subplot(2, 1, 1)\n",
    "plt.plot(acc, label='Training Accuracy')\n",
    "plt.plot(val_acc, label='Validation Accuracy')\n",
    "plt.legend(loc='lower right')\n",
    "plt.ylabel('Accuracy')\n",
    "plt.ylim([min(plt.ylim()),1])\n",
    "plt.title('Training and Validation Accuracy')\n",
    "\n",
    "plt.subplot(2, 1, 2)\n",
    "plt.plot(loss, label='Training Loss')\n",
    "plt.plot(val_loss, label='Validation Loss')\n",
    "plt.legend(loc='upper right')\n",
    "plt.ylabel('Cross Entropy')\n",
    "plt.ylim([0,1.0])\n",
    "plt.title('Training and Validation Loss')\n",
    "plt.xlabel('epoch')\n",
    "plt.show()"
   ]
  }
 ],
 "metadata": {
  "accelerator": "GPU",
  "colab": {
   "provenance": [],
   "toc_visible": true
  },
  "kernelspec": {
   "display_name": "Python 3 (ipykernel)",
   "language": "python",
   "name": "python3"
  },
  "language_info": {
   "codemirror_mode": {
    "name": "ipython",
    "version": 3
   },
   "file_extension": ".py",
   "mimetype": "text/x-python",
   "name": "python",
   "nbconvert_exporter": "python",
   "pygments_lexer": "ipython3",
   "version": "3.10.12"
  }
 },
 "nbformat": 4,
 "nbformat_minor": 4
}
